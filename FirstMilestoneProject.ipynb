{
 "cells": [
  {
   "cell_type": "code",
   "execution_count": 30,
   "id": "ec2400b6",
   "metadata": {},
   "outputs": [],
   "source": [
    "def show_board(Board):\n",
    "    print(Board[6]+'|'+Board[7]+'|'+Board[8])\n",
    "    print(Board[3]+'|'+Board[4]+'|'+Board[5])\n",
    "    print(Board[0]+'|'+Board[1]+'|'+Board[2])"
   ]
  },
  {
   "cell_type": "code",
   "execution_count": 3,
   "id": "5ce977cd",
   "metadata": {},
   "outputs": [],
   "source": [
    "def choose_symbol(player):\n",
    "    comp = ['X','O']\n",
    "    symbol_choice = 'wrong'    \n",
    "    \n",
    "    while symbol_choice not in comp:\n",
    "        \n",
    "        if symbol_choice != 'wrong':\n",
    "            print('Sorry, choose a valid option!')\n",
    "        \n",
    "        symbol_choice = input('Choose between an X or an O: ')\n",
    "    \n",
    "    print(f'{player} chose {symbol_choice}!')\n",
    "        \n",
    "    \n",
    "    return symbol_choice\n",
    "        "
   ]
  },
  {
   "cell_type": "code",
   "execution_count": 4,
   "id": "10b5d279",
   "metadata": {},
   "outputs": [],
   "source": [
    "def place_marker(board,marker):\n",
    "    comp = ['1','2','3','4','5','6','7','8','9']\n",
    "    position = 'wrong'\n",
    "    \n",
    "    while position not in comp or board[int(position)-1] == 'O' or board[int(position)-1] == 'X' :\n",
    "        \n",
    "        if position != 'wrong':\n",
    "            print('Pick a valid position!')\n",
    "            \n",
    "        position = input('Decide where you wanna put your marker')\n",
    "           \n",
    "    board[int(position)-1] = marker\n",
    "    board\n",
    "        \n",
    "    return board\n",
    "    \n",
    "    "
   ]
  },
  {
   "cell_type": "code",
   "execution_count": 5,
   "id": "ccf9d991",
   "metadata": {},
   "outputs": [],
   "source": [
    "def win_check(board):\n",
    "    win_condition = False\n",
    "    #Lateral\n",
    "    if board[0] == board[1] and board[0] == board[2]:\n",
    "        win_condition = True\n",
    "    if board[3] == board[4] and board[3] == board[5]:\n",
    "        win_condition = True\n",
    "    if board[6] == board[7] and board[6] == board[8]:\n",
    "        win_condition = True\n",
    "    \n",
    "    #Vertical\n",
    "    if board[0] == board[3] and board[0] == board[6]:\n",
    "        win_condition = True\n",
    "    if board[1] == board[4] and board[1] == board[7]:\n",
    "        win_condition = True\n",
    "    if board[2] == board[5] and board[2] == board[8]:\n",
    "        win_condition = True\n",
    "    \n",
    "    #Cruzado\n",
    "    if board[0] == board[4] and board[0] == board[8]:\n",
    "        win_condition = True\n",
    "    if board[2] == board[4] and board[2] == board[6]:\n",
    "        win_condition = True\n",
    "    return win_condition"
   ]
  },
  {
   "cell_type": "code",
   "execution_count": 6,
   "id": "c91b568f",
   "metadata": {},
   "outputs": [],
   "source": [
    "Player1 = ''\n",
    "Player2 = ''\n",
    "def player_name1():\n",
    "    Name = input('Enter the name of player 1 ')\n",
    "    return Name\n",
    "def player_name2():\n",
    "    Name = input('Enter the name of player 2 ')\n",
    "    return Name\n",
    "    "
   ]
  },
  {
   "cell_type": "code",
   "execution_count": 7,
   "id": "d2f03d5b",
   "metadata": {},
   "outputs": [],
   "source": [
    "import random\n",
    "\n",
    "def choose_first(player1,player2):\n",
    "    \n",
    "    starter = random.randint(0,1)\n",
    "    \n",
    "    if starter == 0:\n",
    "        print(f'{player1}, you start!')\n",
    "        return player1\n",
    "    \n",
    "    if starter == 1:\n",
    "        print(f'{player2}, you start!')\n",
    "        return player2"
   ]
  },
  {
   "cell_type": "code",
   "execution_count": 8,
   "id": "09c69330",
   "metadata": {},
   "outputs": [],
   "source": [
    "def full_board_check(board):\n",
    "    \n",
    "    counter = 0\n",
    "    \n",
    "    for space in board:\n",
    "        if space == 'X' or space == 'O':\n",
    "            counter = counter +1\n",
    "    \n",
    "    if counter == 9:\n",
    "        return True\n",
    "    else: return False\n",
    "    \n",
    "    "
   ]
  },
  {
   "cell_type": "code",
   "execution_count": 9,
   "id": "a5ddca38",
   "metadata": {},
   "outputs": [],
   "source": [
    "def replay():\n",
    "    \n",
    "    answer = 'wrong'\n",
    "    \n",
    "    while answer!='No' and answer!='Yes':\n",
    "        \n",
    "        if answer!='wrong':\n",
    "            print('Choose an option between Yes or No! ')\n",
    "            \n",
    "        answer = input('Do you wanna keep playing? ')\n",
    "        \n",
    "    if answer == 'Yes':\n",
    "        return True\n",
    "    else: return False"
   ]
  },
  {
   "cell_type": "code",
   "execution_count": 31,
   "id": "62015c1d",
   "metadata": {},
   "outputs": [],
   "source": [
    "def game_run():\n",
    "    \n",
    "    \n",
    "    Game_on = True\n",
    "    while Game_on == True:\n",
    "        Board = ['1','2','3','4','5','6','7','8','9']\n",
    "      \n",
    "        Player1 = player_name1()\n",
    "    \n",
    "        Player2 = player_name2()\n",
    " \n",
    "        First_player=choose_first(Player1,Player2)\n",
    "    \n",
    "        symbol = choose_symbol(First_player)\n",
    "    \n",
    "        show_board(Board)\n",
    "    \n",
    "        full_board = False\n",
    "        win = False\n",
    "        \n",
    "\n",
    "        while full_board == False and win == False:\n",
    "    \n",
    "            place_marker(Board,symbol)\n",
    "            show_board(Board)\n",
    "            full_board = full_board_check(Board)\n",
    "            win = win_check(Board)\n",
    "        \n",
    "            if symbol == 'X':\n",
    "                symbol = 'O'\n",
    "            else: symbol = 'X'    \n",
    "        \n",
    "            if full_board == False and win == False:\n",
    "            \n",
    "                place_marker(Board,symbol)\n",
    "                show_board(Board)\n",
    "            \n",
    "                if symbol == 'X':\n",
    "                    symbol = 'O'\n",
    "                else: symbol = 'X'\n",
    "        \n",
    "        full_board = full_board_check(Board)\n",
    "        win = win_check(Board)\n",
    "    \n",
    "          \n",
    "        if full_board:\n",
    "            print('It is a tie!')\n",
    "        if win:\n",
    "            print('Congrats, you won!')\n",
    "        if win and full_board:\n",
    "            print('Congrats, you won!')\n",
    "        Game_on = replay()\n",
    "    "
   ]
  },
  {
   "cell_type": "code",
   "execution_count": 28,
   "id": "b5f93927",
   "metadata": {},
   "outputs": [
    {
     "name": "stdout",
     "output_type": "stream",
     "text": [
      "7|8|9\n",
      "4|5|6\n",
      "1|2|3\n"
     ]
    }
   ],
   "source": [
    "show_board(Board)"
   ]
  },
  {
   "cell_type": "code",
   "execution_count": null,
   "id": "1829c0e5",
   "metadata": {},
   "outputs": [],
   "source": []
  }
 ],
 "metadata": {
  "kernelspec": {
   "display_name": "Python 3 (ipykernel)",
   "language": "python",
   "name": "python3"
  },
  "language_info": {
   "codemirror_mode": {
    "name": "ipython",
    "version": 3
   },
   "file_extension": ".py",
   "mimetype": "text/x-python",
   "name": "python",
   "nbconvert_exporter": "python",
   "pygments_lexer": "ipython3",
   "version": "3.11.5"
  }
 },
 "nbformat": 4,
 "nbformat_minor": 5
}
